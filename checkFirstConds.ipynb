{
 "cells": [
  {
   "cell_type": "markdown",
   "metadata": {},
   "source": [
    "Добавляем пакеты"
   ]
  },
  {
   "cell_type": "code",
   "execution_count": null,
   "metadata": {},
   "outputs": [],
   "source": [
    "include(\"makePlot.jl\")\n",
    "using DelimitedFiles"
   ]
  },
  {
   "cell_type": "markdown",
   "metadata": {},
   "source": [
    "Выбираем уравнение"
   ]
  },
  {
   "cell_type": "code",
   "execution_count": null,
   "metadata": {},
   "outputs": [],
   "source": [
    "numOfEq = 1\n",
    "println(\"Номер уравнения: $numOfEq\")"
   ]
  },
  {
   "cell_type": "markdown",
   "metadata": {},
   "source": [
    "Выбираем режим вывода графиков"
   ]
  },
  {
   "cell_type": "code",
   "execution_count": null,
   "metadata": {},
   "outputs": [],
   "source": [
    "default = false\n",
    "defaultStepParam = 5 # Показывает defaultStepParam графиков"
   ]
  },
  {
   "cell_type": "markdown",
   "metadata": {},
   "source": [
    "Явная схема"
   ]
  },
  {
   "cell_type": "code",
   "execution_count": null,
   "metadata": {},
   "outputs": [],
   "source": [
    "firstPlots = 180 # Сколько показать первых графиков // Работает только при default = false\n",
    "firstSteps = 8 # Шаг между первыми графиками // Работает только при default = false"
   ]
  },
  {
   "cell_type": "code",
   "execution_count": null,
   "metadata": {},
   "outputs": [],
   "source": [
    "typeOfScheme = \"Forward\"\n",
    "\n",
    "solutionFile = \"D:\\\\Calc_Methods_2\\\\Lab2\\\\LinearHeatEq\\\\FirstConds\\\\$typeOfScheme\\\\solution$numOfEq.txt\"\n",
    "dataFile = \"D:\\\\Calc_Methods_2\\\\Lab2\\\\LinearHeatEq\\\\FirstConds\\\\$typeOfScheme\\\\data$numOfEq.txt\"\n",
    "intervalFile = \"D:\\\\Calc_Methods_2\\\\Lab2\\\\LinearHeatEq\\\\FirstConds\\\\$typeOfScheme\\\\interval$numOfEq.txt\"\n",
    "\n",
    "solutionMatrix = readdlm(solutionFile)\n",
    "dataVec = readdlm(dataFile)\n",
    "intervalVec = readdlm(intervalFile);\n",
    "\n",
    "L = dataVec[3]\n",
    "timeEnd = dataVec[4]\n",
    "numOfXIntervals = Int(intervalVec[1])\n",
    "numOfTIntervals = Int(intervalVec[2])\n",
    "h = L / numOfXIntervals\n",
    "τ = timeEnd / numOfTIntervals\n",
    "if default == true\n",
    "    plotStep = trunc(Int, timeEnd / (defaultStepParam * τ))\n",
    "    numOfPlots = numOfTIntervals + 1    \n",
    "else\n",
    "    plotStep = firstSteps\n",
    "    numOfPlots = firstPlots\n",
    "end\n",
    "println(\"Шаг графика: $plotStep\")\n",
    "println(\"Время последнего графика: $((numOfPlots - 1)*τ)\")\n",
    "makePlot(numOfPlots, plotStep, solutionMatrix, dataVec, intervalVec)"
   ]
  },
  {
   "cell_type": "markdown",
   "metadata": {},
   "source": [
    "Неявная схема"
   ]
  },
  {
   "cell_type": "code",
   "execution_count": null,
   "metadata": {},
   "outputs": [],
   "source": [
    "firstPlots = 180 # Сколько показать первых графиков // Работает только при default = false\n",
    "firstSteps = 8 # Шаг между первыми графиками // Работает только при default = false"
   ]
  },
  {
   "cell_type": "code",
   "execution_count": null,
   "metadata": {},
   "outputs": [],
   "source": [
    "typeOfScheme = \"Backward\"\n",
    "\n",
    "solutionFile = \"D:\\\\Calc_Methods_2\\\\Lab2\\\\LinearHeatEq\\\\FirstConds\\\\$typeOfScheme\\\\solution$numOfEq.txt\"\n",
    "dataFile = \"D:\\\\Calc_Methods_2\\\\Lab2\\\\LinearHeatEq\\\\FirstConds\\\\$typeOfScheme\\\\data$numOfEq.txt\"\n",
    "intervalFile = \"D:\\\\Calc_Methods_2\\\\Lab2\\\\LinearHeatEq\\\\FirstConds\\\\$typeOfScheme\\\\interval$numOfEq.txt\"\n",
    "\n",
    "solutionMatrix = readdlm(solutionFile)\n",
    "dataVec = readdlm(dataFile)\n",
    "intervalVec = readdlm(intervalFile);\n",
    "\n",
    "L = dataVec[3]\n",
    "timeEnd = dataVec[4]\n",
    "numOfXIntervals = Int(intervalVec[1])\n",
    "numOfTIntervals = Int(intervalVec[2])\n",
    "h = L / numOfXIntervals\n",
    "τ = timeEnd / numOfTIntervals\n",
    "if default == true\n",
    "    plotStep = trunc(Int, timeEnd / (defaultStepParam * τ))\n",
    "    numOfPlots = numOfTIntervals + 1    \n",
    "else\n",
    "    plotStep = firstSteps\n",
    "    numOfPlots = firstPlots\n",
    "end\n",
    "println(\"Шаг графика: $plotStep\")\n",
    "println(\"Время последнего графика: $((numOfPlots - 1)*τ)\")\n",
    "makePlot(numOfPlots, plotStep, solutionMatrix, dataVec, intervalVec)"
   ]
  },
  {
   "attachments": {},
   "cell_type": "markdown",
   "metadata": {},
   "source": [
    "Симметричная схема"
   ]
  },
  {
   "cell_type": "code",
   "execution_count": null,
   "metadata": {},
   "outputs": [],
   "source": [
    "firstPlots = 180 # Сколько показать первых графиков // Работает только при default = false\n",
    "firstSteps = 8 # Шаг между первыми графиками // Работает только при default = false"
   ]
  },
  {
   "cell_type": "code",
   "execution_count": null,
   "metadata": {},
   "outputs": [],
   "source": [
    "typeOfScheme = \"Symmetric\"\n",
    "\n",
    "solutionFile = \"D:\\\\Calc_Methods_2\\\\Lab2\\\\LinearHeatEq\\\\FirstConds\\\\$typeOfScheme\\\\solution$numOfEq.txt\"\n",
    "dataFile = \"D:\\\\Calc_Methods_2\\\\Lab2\\\\LinearHeatEq\\\\FirstConds\\\\$typeOfScheme\\\\data$numOfEq.txt\"\n",
    "intervalFile = \"D:\\\\Calc_Methods_2\\\\Lab2\\\\LinearHeatEq\\\\FirstConds\\\\$typeOfScheme\\\\interval$numOfEq.txt\"\n",
    "\n",
    "solutionMatrix = readdlm(solutionFile)\n",
    "dataVec = readdlm(dataFile)\n",
    "intervalVec = readdlm(intervalFile);\n",
    "\n",
    "L = dataVec[3]\n",
    "timeEnd = dataVec[4]\n",
    "numOfXIntervals = Int(intervalVec[1])\n",
    "numOfTIntervals = Int(intervalVec[2])\n",
    "h = L / numOfXIntervals\n",
    "τ = timeEnd / numOfTIntervals\n",
    "if default == true\n",
    "    plotStep = trunc(Int, timeEnd / (defaultStepParam * τ))\n",
    "    numOfPlots = numOfTIntervals + 1    \n",
    "else\n",
    "    plotStep = firstSteps\n",
    "    numOfPlots = firstPlots\n",
    "end\n",
    "println(\"Шаг графика: $plotStep\")\n",
    "println(\"Время последнего графика: $((numOfPlots - 1)*τ)\")\n",
    "makePlot(numOfPlots, plotStep, solutionMatrix, dataVec, intervalVec)"
   ]
  },
  {
   "cell_type": "markdown",
   "metadata": {},
   "source": [
    "Другой вес "
   ]
  },
  {
   "cell_type": "code",
   "execution_count": null,
   "metadata": {},
   "outputs": [],
   "source": [
    "firstPlots = 180 # Сколько показать первых графиков // Работает только при default = false\n",
    "firstSteps = 8 # Шаг между первыми графиками // Работает только при default = false"
   ]
  },
  {
   "cell_type": "code",
   "execution_count": null,
   "metadata": {},
   "outputs": [],
   "source": [
    "typeOfScheme = \"Another\"\n",
    "\n",
    "solutionFile = \"D:\\\\Calc_Methods_2\\\\Lab2\\\\LinearHeatEq\\\\FirstConds\\\\$typeOfScheme\\\\solution$numOfEq.txt\"\n",
    "dataFile = \"D:\\\\Calc_Methods_2\\\\Lab2\\\\LinearHeatEq\\\\FirstConds\\\\$typeOfScheme\\\\data$numOfEq.txt\"\n",
    "intervalFile = \"D:\\\\Calc_Methods_2\\\\Lab2\\\\LinearHeatEq\\\\FirstConds\\\\$typeOfScheme\\\\interval$numOfEq.txt\"\n",
    "\n",
    "solutionMatrix = readdlm(solutionFile)\n",
    "dataVec = readdlm(dataFile)\n",
    "intervalVec = readdlm(intervalFile);\n",
    "\n",
    "L = dataVec[3]\n",
    "timeEnd = dataVec[4]\n",
    "numOfXIntervals = Int(intervalVec[1])\n",
    "numOfTIntervals = Int(intervalVec[2])\n",
    "h = L / numOfXIntervals\n",
    "τ = timeEnd / numOfTIntervals\n",
    "if default == true\n",
    "    plotStep = trunc(Int, timeEnd / (defaultStepParam * τ))\n",
    "    numOfPlots = numOfTIntervals + 1    \n",
    "else\n",
    "    plotStep = firstSteps\n",
    "    numOfPlots = firstPlots\n",
    "end\n",
    "println(\"Шаг графика: $plotStep\")\n",
    "println(\"Время последнего графика: $((numOfPlots - 1)*τ)\")\n",
    "makePlot(numOfPlots, plotStep, solutionMatrix, dataVec, intervalVec)"
   ]
  },
  {
   "cell_type": "markdown",
   "metadata": {},
   "source": [
    "Квазилинейное уравнение"
   ]
  },
  {
   "cell_type": "code",
   "execution_count": null,
   "metadata": {},
   "outputs": [],
   "source": [
    "firstPlots = 180 # Сколько показать первых графиков // Работает только при default = false\n",
    "firstSteps = 8 # Шаг между первыми графиками // Работает только при default = false"
   ]
  },
  {
   "cell_type": "code",
   "execution_count": null,
   "metadata": {},
   "outputs": [],
   "source": [
    "solutionFile = \"D:\\\\Calc_Methods_2\\\\Lab2\\\\QuasilinearHeatEq\\\\FirstConds\\\\solution$numOfEq.txt\"\n",
    "dataFile = \"D:\\\\Calc_Methods_2\\\\Lab2\\\\QuasilinearHeatEq\\\\FirstConds\\\\data$numOfEq.txt\"\n",
    "intervalFile = \"D:\\\\Calc_Methods_2\\\\Lab2\\\\QuasilinearHeatEq\\\\FirstConds\\\\interval$numOfEq.txt\"\n",
    "\n",
    "solutionMatrix = readdlm(solutionFile)\n",
    "dataVec = readdlm(dataFile)\n",
    "intervalVec = readdlm(intervalFile);\n",
    "\n",
    "L = dataVec[3]\n",
    "timeEnd = dataVec[4]\n",
    "numOfXIntervals = Int(intervalVec[1])\n",
    "numOfTIntervals = Int(intervalVec[2])\n",
    "h = L / numOfXIntervals\n",
    "τ = timeEnd / numOfTIntervals\n",
    "if default == true\n",
    "    plotStep = trunc(Int, timeEnd / (defaultStepParam * τ))\n",
    "    numOfPlots = numOfTIntervals + 1    \n",
    "else\n",
    "    plotStep = firstSteps\n",
    "    numOfPlots = firstPlots\n",
    "end\n",
    "println(\"Шаг графика: $plotStep\")\n",
    "println(\"Время последнего графика: $((numOfPlots - 1)*τ)\")\n",
    "makePlot(numOfPlots, plotStep, solutionMatrix, dataVec, intervalVec, true)"
   ]
  }
 ],
 "metadata": {
  "kernelspec": {
   "display_name": "Julia 1.8.1",
   "language": "julia",
   "name": "julia-1.8"
  },
  "language_info": {
   "file_extension": ".jl",
   "mimetype": "application/julia",
   "name": "julia",
   "version": "1.8.1"
  },
  "orig_nbformat": 4
 },
 "nbformat": 4,
 "nbformat_minor": 2
}
